{
 "cells": [
  {
   "cell_type": "code",
   "execution_count": 1,
   "metadata": {},
   "outputs": [],
   "source": [
    "import requests\n",
    "from urllib import parse\n",
    "from lxml import etree"
   ]
  },
  {
   "cell_type": "code",
   "execution_count": 2,
   "metadata": {},
   "outputs": [],
   "source": [
    "headers={\n",
    "    \"User-Agent\": \"Mozilla/5.0 (Windows NT 10.0; Win64; x64) AppleWebKit/537.36 (KHTML, like Gecko) Chrome/91.0.4472.124 Safari/537.36\",\n",
    "}\n",
    "payload = {\n",
    "    \"query\": \"federated learning\",\n",
    "    \"searchtype\": \"all\",\n",
    "    \"source\": \"header\",\n",
    "}\n",
    "url=\"https://arxiv.org/search/?\" + parse.urlencode(payload)"
   ]
  },
  {
   "cell_type": "code",
   "execution_count": 3,
   "metadata": {},
   "outputs": [],
   "source": [
    "res = requests.get(url, headers=headers)\n"
   ]
  },
  {
   "cell_type": "code",
   "execution_count": 19,
   "metadata": {},
   "outputs": [],
   "source": [
    "html = etree.HTML(res.text)"
   ]
  },
  {
   "cell_type": "code",
   "execution_count": 31,
   "metadata": {},
   "outputs": [],
   "source": [
    "result_nodes = html.xpath(\"//*[@class='arxiv-result']\")"
   ]
  },
  {
   "cell_type": "code",
   "execution_count": 36,
   "metadata": {},
   "outputs": [],
   "source": [
    "result = result_nodes[1]\n",
    "title = result.xpath(\"//*[@class='title is-5 mathjax']\")\n",
    "# print(etree.tostring(result.xpath(\"//*[@class='title is-5 mathjax']\")).decode(\"utf-8\"))"
   ]
  }
 ],
 "metadata": {
  "interpreter": {
   "hash": "6e6ec51bbb1b497c1dc8f0cb6606324d15041a2a0f82c9184478c58b39bb61d4"
  },
  "kernelspec": {
   "display_name": "Python 3.8.13 ('jupyter')",
   "language": "python",
   "name": "python3"
  },
  "language_info": {
   "codemirror_mode": {
    "name": "ipython",
    "version": 3
   },
   "file_extension": ".py",
   "mimetype": "text/x-python",
   "name": "python",
   "nbconvert_exporter": "python",
   "pygments_lexer": "ipython3",
   "version": "3.8.13"
  },
  "orig_nbformat": 4
 },
 "nbformat": 4,
 "nbformat_minor": 2
}
